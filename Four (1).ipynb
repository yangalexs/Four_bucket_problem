{
 "cells": [
  {
   "cell_type": "code",
   "execution_count": 1,
   "id": "b1c7253a",
   "metadata": {},
   "outputs": [
    {
     "name": "stdout",
     "output_type": "stream",
     "text": [
      "Step 1: 3-gallon bucket = 0 gallons, 5-gallon bucket = 5 gallons\n",
      "Step 2: 3-gallon bucket = 3 gallons, 5-gallon bucket = 2 gallons\n",
      "Step 3: 3-gallon bucket = 0 gallons, 5-gallon bucket = 2 gallons\n",
      "Step 4: 3-gallon bucket = 2 gallons, 5-gallon bucket = 0 gallons\n",
      "Step 5: 3-gallon bucket = 2 gallons, 5-gallon bucket = 5 gallons\n",
      "Step 6: 3-gallon bucket = 3 gallons, 5-gallon bucket = 4 gallons\n",
      "Success! 4 gallons of water obtained in the 5-gallon bucket.\n"
     ]
    },
    {
     "data": {
      "text/plain": [
       "[(0, 5), (3, 2), (0, 2), (2, 0), (2, 5), (3, 4)]"
      ]
     },
     "execution_count": 1,
     "metadata": {},
     "output_type": "execute_result"
    }
   ],
   "source": [
    "from collections import deque\n",
    "\n",
    "def is_valid_state(state):\n",
    "    return 0 <= state[0] <= 3 and 0 <= state[1] <= 5\n",
    "\n",
    "def water_jug_solution_dp():\n",
    "    # Initial state: (0, 0)\n",
    "    initial_state = (0, 0)\n",
    "    # Goal state: Any state where one of the buckets contains exactly 4 gallons\n",
    "    goal_state = 4\n",
    "\n",
    "    # Queue for BFS\n",
    "    queue = deque([(initial_state, [])])\n",
    "    # Set to keep track of visited states\n",
    "    visited = set()\n",
    "    visited.add(initial_state)\n",
    "\n",
    "    while queue:\n",
    "        (current_state, path) = queue.popleft()\n",
    "        x, y = current_state\n",
    "\n",
    "        if y == goal_state:\n",
    "            # Print the path\n",
    "            for i, step in enumerate(path, start=1):\n",
    "                print(f\"Step {i}: 3-gallon bucket = {step[0]} gallons, 5-gallon bucket = {step[1]} gallons\")\n",
    "            print(\"Success! 4 gallons of water obtained in the 5-gallon bucket.\")\n",
    "            return path\n",
    "\n",
    "        # Generate all possible next states\n",
    "        next_states = [\n",
    "            (3, y),  # Fill 3-gallon bucket\n",
    "            (x, 5),  # Fill 5-gallon bucket\n",
    "            (0, y),  # Empty 3-gallon bucket\n",
    "            (x, 0),  # Empty 5-gallon bucket\n",
    "            (x - min(x, 5 - y), y + min(x, 5 - y)),  # Pour from 3-gallon to 5-gallon bucket\n",
    "            (x + min(y, 3 - x), y - min(y, 3 - x))   # Pour from 5-gallon to 3-gallon bucket\n",
    "        ]\n",
    "\n",
    "        for state in next_states:\n",
    "            if is_valid_state(state) and state not in visited:\n",
    "                visited.add(state)\n",
    "                queue.append((state, path + [state]))\n",
    "\n",
    "    print(\"Failure. It is not possible to obtain exactly 4 gallons of water in the 5-gallon bucket within the constraints.\")\n",
    "\n",
    "# Run the solution\n",
    "water_jug_solution_dp()\n"
   ]
  },
  {
   "cell_type": "code",
   "execution_count": null,
   "id": "0c9cef7e",
   "metadata": {},
   "outputs": [],
   "source": []
  }
 ],
 "metadata": {
  "kernelspec": {
   "display_name": "Python 3",
   "language": "python",
   "name": "python3"
  },
  "language_info": {
   "codemirror_mode": {
    "name": "ipython",
    "version": 3
   },
   "file_extension": ".py",
   "mimetype": "text/x-python",
   "name": "python",
   "nbconvert_exporter": "python",
   "pygments_lexer": "ipython3",
   "version": "3.8.8"
  }
 },
 "nbformat": 4,
 "nbformat_minor": 5
}
